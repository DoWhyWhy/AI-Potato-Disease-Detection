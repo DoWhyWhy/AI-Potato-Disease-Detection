
{
  "nbformat": 4,
  "nbformat_minor": 0,
  "metadata": {
    "colab": {
      "provenance": [],
      "gpuType": "T4"
    },
    "kernelspec": {
      "name": "python3",
      "display_name": "Python 3"
    },
    "language_info": {
      "name": "python"
    },
    "accelerator": "GPU"
  },
  "cells": [
    {
      "cell_type": "code",
      "source": [
        "# improt data from kaggel to google cloab\n",
        "# some commnand is need\n",
        "#!mkdir -p ~/.kaggle\n",
        "#!cp kaggle.json ~/.kaggle/"
      ],
      "metadata": {
        "id": "lAJwoBEdEsMt"
      },
      "execution_count": 1,
      "outputs": []
    },
    {
      "cell_type": "code",
      "execution_count": 2,
      "metadata": {
        "id": "VGsCxJ7BEF4F"
      },
      "outputs": [],
      "source": [
        "# kaggle dataset API\n",
        "#!kaggle datasets download -d arjuntejaswi/plant-village"
      ]
    },
    {
      "cell_type": "code",
      "source": [
        " #the data download is zip file convert the normal file\n",
        "#import zipfile\n",
        "#zip_ref = zipfile.ZipFile('/content/plant-village.zip', 'r')\n",
        "#zip_ref.extractall('/content')\n",
        "#zip_ref.close()"
      ],
      "metadata": {
        "id": "QqPzZC3VErVQ"
      },
      "execution_count": 3,
      "outputs": []
    },
    {
      "cell_type": "code",
      "source": [
        "# import libraries\n",
        "import warnings\n",
        "warnings.filterwarnings('ignore')\n",
        "import tensorflow as tf\n",
        "from tensorflow.keras.preprocessing.image import ImageDataGenerator\n",
        "from tensorflow.keras import Sequential\n",
        "from tensorflow.keras.layers import Dense, Dropout, Activation, Flatten, Conv2D, MaxPooling2D\n",
        "import numpy as np\n",
        "import os\n",
        "import matplotlib.pyplot as plt\n",
        "%matplotlib inline"
      ],
      "metadata": {
        "id": "kuHa1u_HEkmQ"
      },
      "execution_count": 4,
      "outputs": []
    },
    {
      "cell_type": "code",
      "source": [
        "# some important varibles\n",