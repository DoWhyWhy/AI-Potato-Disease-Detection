
{
  "nbformat": 4,
  "nbformat_minor": 0,
  "metadata": {
    "colab": {
      "provenance": [],
      "gpuType": "T4"
    },
    "kernelspec": {
      "name": "python3",
      "display_name": "Python 3"
    },
    "language_info": {
      "name": "python"
    },
    "accelerator": "GPU"
  },
  "cells": [
    {
      "cell_type": "code",
      "source": [
        "# improt data from kaggel to google cloab\n",
        "# some commnand is need\n",
        "#!mkdir -p ~/.kaggle\n",
        "#!cp kaggle.json ~/.kaggle/"
      ],
      "metadata": {
        "id": "lAJwoBEdEsMt"
      },
      "execution_count": 1,
      "outputs": []
    },
    {
      "cell_type": "code",
      "execution_count": 2,
      "metadata": {
        "id": "VGsCxJ7BEF4F"
      },
      "outputs": [],
      "source": [
        "# kaggle dataset API\n",
        "#!kaggle datasets download -d arjuntejaswi/plant-village"
      ]
    },
    {
      "cell_type": "code",
      "source": [
        " #the data download is zip file convert the normal file\n",
        "#import zipfile\n",
        "#zip_ref = zipfile.ZipFile('/content/plant-village.zip', 'r')\n",
        "#zip_ref.extractall('/content')\n",
        "#zip_ref.close()"
      ],
      "metadata": {
        "id": "QqPzZC3VErVQ"
      },
      "execution_count": 3,
      "outputs": []
    },
    {
      "cell_type": "code",
      "source": [
        "# import libraries\n",
        "import warnings\n",
        "warnings.filterwarnings('ignore')\n",
        "import tensorflow as tf\n",
        "from tensorflow.keras.preprocessing.image import ImageDataGenerator\n",
        "from tensorflow.keras import Sequential\n",
        "from tensorflow.keras.layers import Dense, Dropout, Activation, Flatten, Conv2D, MaxPooling2D\n",
        "import numpy as np\n",
        "import os\n",
        "import matplotlib.pyplot as plt\n",
        "%matplotlib inline"
      ],
      "metadata": {
        "id": "kuHa1u_HEkmQ"
      },
      "execution_count": 4,
      "outputs": []
    },
    {
      "cell_type": "code",
      "source": [
        "# some important varibles\n",
        "batch_size = 32\n",
        "image_size = 256\n",
        "channels = 3\n",
        "epochs = 50"
      ],
      "metadata": {
        "id": "xMMu1KGjJiJF"
      },
      "execution_count": 5,
      "outputs": []
    },
    {
      "cell_type": "code",
      "source": [
        "dataset = tf.keras.preprocessing.image_dataset_from_directory(\n",
        "    '/content/drive/MyDrive/CNN_Poteto_project/PlantVillage',\n",
        "    shuffle =True ,\n",
        "    image_size =(image_size,image_size)  , # image_size =(64,64,3)\n",
        "    batch_size = batch_size             # 32\n",
        ")"
      ],
      "metadata": {
        "id": "kcfsGxZjQT2D",
        "colab": {
          "base_uri": "https://localhost:8080/"
        },
        "outputId": "06334805-bfe6-4d1b-f6b8-38b3aeef9c43"
      },
      "execution_count": 6,
      "outputs": [
        {
          "output_type": "stream",
          "name": "stdout",
          "text": [
            "Found 2152 files belonging to 3 classes.\n"
          ]
        }
      ]
    },
    {
      "cell_type": "code",
      "source": [
        "# class name\n",
        "class_names = dataset.class_names\n",
        "class_names"
      ],
      "metadata": {
        "colab": {
          "base_uri": "https://localhost:8080/"
        },
        "id": "-vjIulYhUUfK",
        "outputId": "61f77f2c-af10-4e93-f74b-1bf32fbc4830"
      },
      "execution_count": 7,
      "outputs": [
        {
          "output_type": "execute_result",
          "data": {
            "text/plain": [
              "['Potato___Early_blight', 'Potato___Late_blight', 'Potato___healthy']"
            ]
          },
          "metadata": {},