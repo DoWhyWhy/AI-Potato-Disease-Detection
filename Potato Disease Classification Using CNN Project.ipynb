
{
  "nbformat": 4,
  "nbformat_minor": 0,
  "metadata": {
    "colab": {
      "provenance": [],
      "gpuType": "T4"
    },
    "kernelspec": {
      "name": "python3",
      "display_name": "Python 3"
    },
    "language_info": {
      "name": "python"
    },
    "accelerator": "GPU"
  },
  "cells": [
    {
      "cell_type": "code",
      "source": [
        "# improt data from kaggel to google cloab\n",
        "# some commnand is need\n",
        "#!mkdir -p ~/.kaggle\n",
        "#!cp kaggle.json ~/.kaggle/"
      ],
      "metadata": {
        "id": "lAJwoBEdEsMt"
      },
      "execution_count": 1,
      "outputs": []
    },
    {
      "cell_type": "code",
      "execution_count": 2,
      "metadata": {
        "id": "VGsCxJ7BEF4F"
      },
      "outputs": [],
      "source": [
        "# kaggle dataset API\n",
        "#!kaggle datasets download -d arjuntejaswi/plant-village"
      ]
    },
    {
      "cell_type": "code",
      "source": [
        " #the data download is zip file convert the normal file\n",
        "#import zipfile\n",
        "#zip_ref = zipfile.ZipFile('/content/plant-village.zip', 'r')\n",
        "#zip_ref.extractall('/content')\n",
        "#zip_ref.close()"
      ],
      "metadata": {
        "id": "QqPzZC3VErVQ"
      },
      "execution_count": 3,
      "outputs": []
    },
    {
      "cell_type": "code",
      "source": [
        "# import libraries\n",
        "import warnings\n",
        "warnings.filterwarnings('ignore')\n",
        "import tensorflow as tf\n",
        "from tensorflow.keras.preprocessing.image import ImageDataGenerator\n",
        "from tensorflow.keras import Sequential\n",
        "from tensorflow.keras.layers import Dense, Dropout, Activation, Flatten, Conv2D, MaxPooling2D\n",
        "import numpy as np\n",
        "import os\n",
        "import matplotlib.pyplot as plt\n",
        "%matplotlib inline"
      ],
      "metadata": {
        "id": "kuHa1u_HEkmQ"
      },
      "execution_count": 4,
      "outputs": []
    },
    {
      "cell_type": "code",
      "source": [
        "# some important varibles\n",
        "batch_size = 32\n",
        "image_size = 256\n",
        "channels = 3\n",
        "epochs = 50"
      ],
      "metadata": {
        "id": "xMMu1KGjJiJF"
      },
      "execution_count": 5,
      "outputs": []
    },
    {
      "cell_type": "code",
      "source": [
        "dataset = tf.keras.preprocessing.image_dataset_from_directory(\n",
        "    '/content/drive/MyDrive/CNN_Poteto_project/PlantVillage',\n",
        "    shuffle =True ,\n",
        "    image_size =(image_size,image_size)  , # image_size =(64,64,3)\n",
        "    batch_size = batch_size             # 32\n",
        ")"
      ],
      "metadata": {
        "id": "kcfsGxZjQT2D",
        "colab": {
          "base_uri": "https://localhost:8080/"
        },
        "outputId": "06334805-bfe6-4d1b-f6b8-38b3aeef9c43"
      },
      "execution_count": 6,
      "outputs": [
        {
          "output_type": "stream",
          "name": "stdout",
          "text": [
            "Found 2152 files belonging to 3 classes.\n"
          ]
        }
      ]
    },
    {
      "cell_type": "code",
      "source": [
        "# class name\n",
        "class_names = dataset.class_names\n",
        "class_names"
      ],
      "metadata": {
        "colab": {
          "base_uri": "https://localhost:8080/"
        },
        "id": "-vjIulYhUUfK",
        "outputId": "61f77f2c-af10-4e93-f74b-1bf32fbc4830"
      },
      "execution_count": 7,
      "outputs": [
        {
          "output_type": "execute_result",
          "data": {
            "text/plain": [
              "['Potato___Early_blight', 'Potato___Late_blight', 'Potato___healthy']"
            ]
          },
          "metadata": {},
          "execution_count": 7
        }
      ]
    },
    {
      "cell_type": "code",
      "source": [
        "dataset"
      ],
      "metadata": {
        "colab": {
          "base_uri": "https://localhost:8080/"
        },
        "id": "blmSveRXUjgB",
        "outputId": "0d90e4d1-52d2-473e-822f-c2928f7e8669"
      },
      "execution_count": 8,
      "outputs": [
        {
          "output_type": "execute_result",
          "data": {
            "text/plain": [
              "<_BatchDataset element_spec=(TensorSpec(shape=(None, 256, 256, 3), dtype=tf.float32, name=None), TensorSpec(shape=(None,), dtype=tf.int32, name=None))>"
            ]
          },
          "metadata": {},
          "execution_count": 8
        }
      ]
    },
    {
      "cell_type": "code",
      "source": [
        "# the batch_size = 32 , its mean 1 batch have 32 tranning data\n",
        "# only take one sample (mean 1 batch)\n",
        "dataset.take(1)"
      ],
      "metadata": {
        "colab": {
          "base_uri": "https://localhost:8080/"
        },
        "id": "Qpm0LlWNUoon",
        "outputId": "dd33e3f6-dc5f-410a-92b9-0bbe628ced73"
      },
      "execution_count": 9,
      "outputs": [
        {
          "output_type": "execute_result",
          "data": {
            "text/plain": [
              "<_TakeDataset element_spec=(TensorSpec(shape=(None, 256, 256, 3), dtype=tf.float32, name=None), TensorSpec(shape=(None,), dtype=tf.int32, name=None))>"
            ]
          },
          "metadata": {},
          "execution_count": 9
        }
      ]
    },
    {
      "cell_type": "code",
      "source": [
        "# only 1 batch points\n",
        "# this is first batch its have totle 32 elements , size is (32,64,64,3)\n",
        "# and its print all output data in last\n",
        "''' array([1, 1, 1, 1, 1, 0, 2, 1, 0, 1, 0, 0, 0, 1, 0, 0, 1, 0, 0, 1, 1, 0, 0, 0, 1, 0, 1, 1, 1, 2, 1, 1], dtype=int32)>)\n",
        "   this type output have 3 class ('Potato___Early_blight -> 0', 'Potato___Late_blight -> 1', 'Potato___healthy -> 2')\n",
        "'''\n",
        "\n",
        "for element in dataset.take(1):\n",
        "  print(element)\n"
      ],
      "metadata": {
        "colab": {
          "base_uri": "https://localhost:8080/"
        },
        "id": "mQyoSWiqWBO7",
        "outputId": "20a09bbd-7390-4f03-827a-bdd73da3f2e2"
      },
      "execution_count": 10,
      "outputs": [
        {
          "output_type": "stream",
          "name": "stdout",
          "text": [
            "(<tf.Tensor: shape=(32, 256, 256, 3), dtype=float32, numpy=\n",
            "array([[[[115., 109., 119.],\n",
            "         [173., 167., 177.],\n",
            "         [199., 193., 203.],\n",
            "         ...,\n",
            "         [173., 170., 179.],\n",
            "         [176., 173., 182.],\n",
            "         [178., 175., 184.]],\n",
            "\n",
            "        [[152., 146., 156.],\n",
            "         [128., 122., 132.],\n",
            "         [156., 150., 160.],\n",
            "         ...,\n",
            "         [174., 171., 180.],\n",
            "         [174., 171., 180.],\n",
            "         [175., 172., 181.]],\n",
            "\n",
            "        [[146., 140., 150.],\n",
            "         [110., 104., 114.],\n",
            "         [126., 120., 130.],\n",
            "         ...,\n",
            "         [173., 170., 179.],\n",
            "         [173., 170., 179.],\n",
            "         [173., 170., 179.]],\n",
            "\n",
            "        ...,\n",
            "\n",
            "        [[147., 144., 155.],\n",
            "         [125., 122., 133.],\n",
            "         [122., 119., 130.],\n",
            "         ...,\n",
            "         [155., 152., 163.],\n",
            "         [152., 149., 160.],\n",
            "         [149., 146., 157.]],\n",
            "\n",
            "        [[153., 150., 161.],\n",
            "         [159., 156., 167.],\n",
            "         [ 96.,  93., 104.],\n",
            "         ...,\n",
            "         [166., 163., 174.],\n",
            "         [159., 156., 167.],\n",
            "         [159., 156., 167.]],\n",
            "\n",
            "        [[115., 112., 123.],\n",
            "         [124., 121., 132.],\n",
            "         [ 80.,  77.,  88.],\n",
            "         ...,\n",
            "         [160., 157., 168.],\n",
            "         [157., 154., 165.],\n",
            "         [165., 162., 173.]]],\n",
            "\n",
            "\n",
            "       [[[184., 182., 187.],\n",
            "         [182., 180., 185.],\n",
            "         [181., 179., 184.],\n",
            "         ...,\n",
            "         [176., 173., 180.],\n",
            "         [176., 173., 180.],\n",
            "         [179., 176., 183.]],\n",
            "\n",
            "        [[180., 178., 183.],\n",
            "         [180., 178., 183.],\n",
            "         [181., 179., 184.],\n",
            "         ...,\n",
            "         [183., 180., 187.],\n",
            "         [182., 179., 186.],\n",
            "         [183., 180., 187.]],\n",
            "\n",
            "        [[183., 181., 186.],\n",
            "         [184., 182., 187.],\n",
            "         [186., 184., 189.],\n",
            "         ...,\n",
            "         [187., 184., 191.],\n",
            "         [185., 182., 189.],\n",
            "         [185., 182., 189.]],\n",
            "\n",
            "        ...,\n",
            "\n",
            "        [[150., 145., 151.],\n",
            "         [151., 146., 152.],\n",
            "         [151., 146., 152.],\n",
            "         ...,\n",
            "         [144., 141., 148.],\n",
            "         [149., 146., 153.],\n",
            "         [150., 147., 154.]],\n",
            "\n",
            "        [[156., 151., 157.],\n",
            "         [156., 151., 157.],\n",
            "         [158., 153., 159.],\n",
            "         ...,\n",
            "         [138., 135., 142.],\n",
            "         [140., 137., 144.],\n",
            "         [146., 143., 150.]],\n",
            "\n",
            "        [[160., 155., 161.],\n",
            "         [160., 155., 161.],\n",
            "         [160., 155., 161.],\n",
            "         ...,\n",
            "         [143., 140., 147.],\n",
            "         [139., 136., 143.],\n",
            "         [143., 140., 147.]]],\n",
            "\n",
            "\n",
            "       [[[207., 206., 212.],\n",
            "         [208., 207., 213.],\n",
            "         [208., 207., 213.],\n",
            "         ...,\n",
            "         [169., 167., 178.],\n",
            "         [168., 166., 177.],\n",
            "         [166., 164., 175.]],\n",
            "\n",
            "        [[207., 206., 212.],\n",
            "         [209., 208., 214.],\n",
            "         [210., 209., 215.],\n",
            "         ...,\n",
            "         [165., 163., 174.],\n",
            "         [167., 165., 176.],\n",
            "         [168., 166., 177.]],\n",
            "\n",
            "        [[204., 203., 209.],\n",
            "         [206., 205., 211.],\n",
            "         [208., 207., 213.],\n",
            "         ...,\n",
            "         [167., 165., 176.],\n",
            "         [170., 168., 179.],\n",
            "         [173., 171., 182.]],\n",
            "\n",
            "        ...,\n",
            "\n",
            "        [[160., 155., 162.],\n",
            "         [145., 140., 147.],\n",
            "         [141., 136., 143.],\n",
            "         ...,\n",
            "         [130., 127., 138.],\n",
            "         [155., 152., 163.],\n",
            "         [150., 147., 158.]],\n",
            "\n",
            "        [[156., 151., 158.],\n",
            "         [131., 126., 133.],\n",
            "         [171., 166., 173.],\n",
            "         ...,\n",
            "         [124., 121., 132.],\n",
            "         [151., 148., 159.],\n",
            "         [150., 147., 158.]],\n",
            "\n",
            "        [[152., 147., 154.],\n",
            "         [142., 137., 144.],\n",
            "         [170., 165., 172.],\n",
            "         ...,\n",
            "         [119., 116., 127.],\n",
            "         [127., 124., 135.],\n",
            "         [139., 136., 147.]]],\n",
            "\n",
            "\n",
            "       ...,\n",
            "\n",
            "\n",
            "       [[[149., 146., 157.],\n",
            "         [151., 148., 159.],\n",
            "         [153., 150., 161.],\n",
            "         ...,\n",
            "         [138., 135., 146.],\n",
            "         [138., 135., 146.],\n",
            "         [141., 138., 149.]],\n",
            "\n",
            "        [[145., 142., 153.],\n",
            "         [148., 145., 156.],\n",
            "         [152., 149., 160.],\n",
            "         ...,\n",
            "         [140., 137., 148.],\n",
            "         [142., 139., 150.],\n",
            "         [148., 145., 156.]],\n",
            "\n",
            "        [[146., 143., 154.],\n",
            "         [148., 145., 156.],\n",
            "         [151., 148., 159.],\n",
            "         ...,\n",
            "         [140., 137., 148.],\n",
            "         [145., 142., 153.],\n",
            "         [153., 150., 161.]],\n",
            "\n",
            "        ...,\n",
            "\n",
            "        [[201., 200., 208.],\n",
            "         [186., 185., 193.],\n",
            "         [190., 189., 197.],\n",
            "         ...,\n",
            "         [181., 179., 192.],\n",
            "         [177., 175., 188.],\n",
            "         [181., 179., 192.]],\n",
            "\n",
            "        [[189., 188., 196.],\n",
            "         [199., 198., 206.],\n",
            "         [194., 193., 201.],\n",
            "         ...,\n",
            "         [184., 182., 195.],\n",
            "         [182., 180., 193.],\n",
            "         [188., 186., 199.]],\n",
            "\n",
            "        [[196., 195., 203.],\n",
            "         [229., 228., 236.],\n",
            "         [212., 211., 219.],\n",
            "         ...,\n",
            "         [182., 180., 193.],\n",
            "         [183., 181., 194.],\n",
            "         [192., 190., 203.]]],\n",
            "\n",
            "\n",
            "       [[[174., 172., 183.],\n",
            "         [178., 176., 187.],\n",
            "         [176., 174., 185.],\n",
            "         ...,\n",
            "         [167., 169., 181.],\n",
            "         [204., 206., 218.],\n",
            "         [199., 201., 213.]],\n",
            "\n",
            "        [[173., 171., 182.],\n",
            "         [176., 174., 185.],\n",
            "         [176., 174., 185.],\n",
            "         ...,\n",
            "         [189., 191., 203.],\n",
            "         [197., 199., 211.],\n",
            "         [188., 190., 202.]],\n",
            "\n",
            "        [[163., 161., 172.],\n",
            "         [165., 163., 174.],\n",
            "         [171., 169., 180.],\n",
            "         ...,\n",
            "         [190., 192., 204.],\n",
            "         [181., 183., 195.],\n",
            "         [174., 176., 188.]],\n",
            "\n",
            "        ...,\n",
            "\n",
            "        [[132., 126., 136.],\n",
            "         [143., 137., 147.],\n",
            "         [131., 125., 135.],\n",
            "         ...,\n",
            "         [137., 134., 145.],\n",
            "         [136., 133., 144.],\n",
            "         [146., 143., 154.]],\n",
            "\n",
            "        [[134., 128., 138.],\n",
            "         [149., 143., 153.],\n",
            "         [144., 138., 148.],\n",
            "         ...,\n",
            "         [146., 143., 154.],\n",
            "         [143., 140., 151.],\n",
            "         [151., 148., 159.]],\n",
            "\n",
            "        [[155., 149., 159.],\n",
            "         [159., 153., 163.],\n",
            "         [137., 131., 141.],\n",
            "         ...,\n",
            "         [138., 135., 146.],\n",
            "         [132., 129., 140.],\n",
            "         [136., 133., 144.]]],\n",
            "\n",
            "\n",
            "       [[[143., 131., 135.],\n",
            "         [144., 132., 136.],\n",
            "         [121., 109., 113.],\n",
            "         ...,\n",
            "         [137., 123., 112.],\n",
            "         [159., 147., 135.],\n",
            "         [138., 126., 114.]],\n",
            "\n",
            "        [[116., 104., 108.],\n",
            "         [146., 134., 138.],\n",
            "         [134., 122., 126.],\n",
            "         ...,\n",
            "         [184., 170., 161.],\n",
            "         [137., 124., 115.],\n",
            "         [ 96.,  83.,  74.]],\n",
            "\n",
            "        [[136., 124., 128.],\n",
            "         [159., 147., 151.],\n",
            "         [143., 131., 135.],\n",
            "         ...,\n",
            "         [145., 130., 127.],\n",
            "         [182., 168., 165.],\n",
            "         [144., 130., 127.]],\n",
            "\n",
            "        ...,\n",
            "\n",
            "        [[177., 168., 173.],\n",
            "         [175., 166., 171.],\n",
            "         [176., 167., 172.],\n",
            "         ...,\n",
            "         [191., 181., 180.],\n",
            "         [190., 180., 179.],\n",
            "         [189., 179., 178.]],\n",
            "\n",
            "        [[178., 169., 174.],\n",
            "         [173., 164., 169.],\n",
            "         [173., 164., 169.],\n",
            "         ...,\n",
            "         [195., 185., 184.],\n",
            "         [194., 184., 183.],\n",
            "         [194., 184., 183.]],\n",
            "\n",
            "        [[176., 167., 172.],\n",
            "         [170., 161., 166.],\n",
            "         [170., 161., 166.],\n",
            "         ...,\n",
            "         [196., 186., 185.],\n",
            "         [197., 187., 186.],\n",
            "         [197., 187., 186.]]]], dtype=float32)>, <tf.Tensor: shape=(32,), dtype=int32, numpy=\n",
            "array([0, 0, 0, 1, 1, 1, 1, 0, 1, 0, 1, 1, 0, 1, 0, 0, 1, 0, 0, 1, 1, 0,\n",
            "       0, 2, 0, 0, 1, 1, 0, 0, 0, 1], dtype=int32)>)\n"
          ]
        }
      ]
    },
    {
      "cell_type": "code",
      "source": [
        "# 1st image_batch and its output labels\n",
        "for image_batch , labels_batch in dataset.take(1):\n",
        "  print(image_batch.shape)\n",
        "  print(labels_batch)\n"
      ],
      "metadata": {
        "colab": {
          "base_uri": "https://localhost:8080/"
        },
        "id": "0KiKaccjnBKS",
        "outputId": "cb4af16d-4fdd-405e-97d5-40e3e35f480b"
      },
      "execution_count": 11,
      "outputs": [
        {
          "output_type": "stream",
          "name": "stdout",
          "text": [
            "(32, 256, 256, 3)\n",
            "tf.Tensor([0 1 1 0 1 1 0 1 2 0 0 0 0 1 0 0 1 1 0 0 1 1 0 0 1 0 1 1 0 0 1 0], shape=(32,), dtype=int32)\n"
          ]
        }
      ]
    },
    {
      "cell_type": "code",
      "source": [
        "# label_batch and image_batch is tesnor convert tensor to simple use numpy()\n",
        "# if not use the numpy() then this is tensor form\n",
        "for image_batch , labels_batch in dataset.take(1):\n",
        "  print(image_batch.shape)\n",
        "  print(labels_batch.numpy())"
      ],
      "metadata": {
        "colab": {
          "base_uri": "https://localhost:8080/"
        },
        "id": "08DQzpFKpCdc",
        "outputId": "c46b7d5d-0bc9-49f3-8bf6-f754c0dd6df2"
      },
      "execution_count": 12,
      "outputs": [
        {
          "output_type": "stream",
          "name": "stdout",
          "text": [
            "(32, 256, 256, 3)\n",
            "[1 1 1 0 1 1 0 1 0 1 1 0 0 1 1 1 0 1 0 0 1 1 0 0 0 1 0 0 0 1 0 0]\n"
          ]
        }
      ]